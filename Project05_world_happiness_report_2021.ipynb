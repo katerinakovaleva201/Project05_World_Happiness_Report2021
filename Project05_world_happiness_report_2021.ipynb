{
 "cells": [
  {
   "cell_type": "markdown",
   "id": "6e377434",
   "metadata": {},
   "source": [
    "## Load libraries "
   ]
  },
  {
   "cell_type": "code",
   "execution_count": 1,
   "id": "f4a8f3bf",
   "metadata": {},
   "outputs": [],
   "source": [
    "import pandas as pd\n",
    "import numpy as np\n",
    "import matplotlib.pyplot as plt\n",
    "import seaborn as sns\n",
    "%matplotlib inline"
   ]
  },
  {
   "cell_type": "markdown",
   "id": "fcfc4d8f",
   "metadata": {},
   "source": [
    "### Read and first analysis of the data"
   ]
  },
  {
   "cell_type": "code",
   "execution_count": 2,
   "id": "b9473e62",
   "metadata": {},
   "outputs": [],
   "source": [
    "data = pd.read_csv(\"World Happiness Report 2021.csv\", sep = ';')"
   ]
  },
  {
   "cell_type": "code",
   "execution_count": 3,
   "id": "2a54db01",
   "metadata": {
    "scrolled": true
   },
   "outputs": [
    {
     "data": {
      "text/html": [
       "<div>\n",
       "<style scoped>\n",
       "    .dataframe tbody tr th:only-of-type {\n",
       "        vertical-align: middle;\n",
       "    }\n",
       "\n",
       "    .dataframe tbody tr th {\n",
       "        vertical-align: top;\n",
       "    }\n",
       "\n",
       "    .dataframe thead th {\n",
       "        text-align: right;\n",
       "    }\n",
       "</style>\n",
       "<table border=\"1\" class=\"dataframe\">\n",
       "  <thead>\n",
       "    <tr style=\"text-align: right;\">\n",
       "      <th></th>\n",
       "      <th>Country name</th>\n",
       "      <th>year</th>\n",
       "      <th>Life Ladder</th>\n",
       "      <th>Log GDP per capita</th>\n",
       "      <th>Social support</th>\n",
       "      <th>Healthy life expectancy at birth</th>\n",
       "      <th>Freedom to make life choices</th>\n",
       "      <th>Generosity</th>\n",
       "      <th>Perceptions of corruption</th>\n",
       "      <th>Positive affect</th>\n",
       "      <th>Negative affect</th>\n",
       "    </tr>\n",
       "  </thead>\n",
       "  <tbody>\n",
       "    <tr>\n",
       "      <th>0</th>\n",
       "      <td>Afghanistan</td>\n",
       "      <td>2008</td>\n",
       "      <td>3.724</td>\n",
       "      <td>7.370</td>\n",
       "      <td>0.451</td>\n",
       "      <td>50.80</td>\n",
       "      <td>0.718</td>\n",
       "      <td>0.168</td>\n",
       "      <td>0.882</td>\n",
       "      <td>0.518</td>\n",
       "      <td>0.258</td>\n",
       "    </tr>\n",
       "    <tr>\n",
       "      <th>1</th>\n",
       "      <td>Afghanistan</td>\n",
       "      <td>2009</td>\n",
       "      <td>4.402</td>\n",
       "      <td>7.540</td>\n",
       "      <td>0.552</td>\n",
       "      <td>51.20</td>\n",
       "      <td>0.679</td>\n",
       "      <td>0.190</td>\n",
       "      <td>0.850</td>\n",
       "      <td>0.584</td>\n",
       "      <td>0.237</td>\n",
       "    </tr>\n",
       "    <tr>\n",
       "      <th>2</th>\n",
       "      <td>Afghanistan</td>\n",
       "      <td>2010</td>\n",
       "      <td>4.758</td>\n",
       "      <td>7.647</td>\n",
       "      <td>0.539</td>\n",
       "      <td>51.60</td>\n",
       "      <td>0.600</td>\n",
       "      <td>0.121</td>\n",
       "      <td>0.707</td>\n",
       "      <td>0.618</td>\n",
       "      <td>0.275</td>\n",
       "    </tr>\n",
       "    <tr>\n",
       "      <th>3</th>\n",
       "      <td>Afghanistan</td>\n",
       "      <td>2011</td>\n",
       "      <td>3.832</td>\n",
       "      <td>7.620</td>\n",
       "      <td>0.521</td>\n",
       "      <td>51.92</td>\n",
       "      <td>0.496</td>\n",
       "      <td>0.162</td>\n",
       "      <td>0.731</td>\n",
       "      <td>0.611</td>\n",
       "      <td>0.267</td>\n",
       "    </tr>\n",
       "    <tr>\n",
       "      <th>4</th>\n",
       "      <td>Afghanistan</td>\n",
       "      <td>2012</td>\n",
       "      <td>3.783</td>\n",
       "      <td>7.705</td>\n",
       "      <td>0.521</td>\n",
       "      <td>52.24</td>\n",
       "      <td>0.531</td>\n",
       "      <td>0.236</td>\n",
       "      <td>0.776</td>\n",
       "      <td>0.710</td>\n",
       "      <td>0.268</td>\n",
       "    </tr>\n",
       "  </tbody>\n",
       "</table>\n",
       "</div>"
      ],
      "text/plain": [
       "  Country name  year  Life Ladder  Log GDP per capita  Social support  \\\n",
       "0  Afghanistan  2008        3.724               7.370           0.451   \n",
       "1  Afghanistan  2009        4.402               7.540           0.552   \n",
       "2  Afghanistan  2010        4.758               7.647           0.539   \n",
       "3  Afghanistan  2011        3.832               7.620           0.521   \n",
       "4  Afghanistan  2012        3.783               7.705           0.521   \n",
       "\n",
       "   Healthy life expectancy at birth  Freedom to make life choices  Generosity  \\\n",
       "0                             50.80                         0.718       0.168   \n",
       "1                             51.20                         0.679       0.190   \n",
       "2                             51.60                         0.600       0.121   \n",
       "3                             51.92                         0.496       0.162   \n",
       "4                             52.24                         0.531       0.236   \n",
       "\n",
       "   Perceptions of corruption  Positive affect  Negative affect  \n",
       "0                      0.882            0.518            0.258  \n",
       "1                      0.850            0.584            0.237  \n",
       "2                      0.707            0.618            0.275  \n",
       "3                      0.731            0.611            0.267  \n",
       "4                      0.776            0.710            0.268  "
      ]
     },
     "execution_count": 3,
     "metadata": {},
     "output_type": "execute_result"
    }
   ],
   "source": [
    "data.head()"
   ]
  },
  {
   "cell_type": "code",
   "execution_count": 89,
   "id": "0e5556ef",
   "metadata": {},
   "outputs": [
    {
     "name": "stdout",
     "output_type": "stream",
     "text": [
      "<class 'pandas.core.frame.DataFrame'>\n",
      "RangeIndex: 1949 entries, 0 to 1948\n",
      "Data columns (total 11 columns):\n",
      " #   Column                            Non-Null Count  Dtype  \n",
      "---  ------                            --------------  -----  \n",
      " 0   Country name                      1949 non-null   object \n",
      " 1   year                              1949 non-null   int64  \n",
      " 2   Life Ladder                       1949 non-null   float64\n",
      " 3   Log GDP per capita                1913 non-null   float64\n",
      " 4   Social support                    1936 non-null   float64\n",
      " 5   Healthy life expectancy at birth  1894 non-null   float64\n",
      " 6   Freedom to make life choices      1917 non-null   float64\n",
      " 7   Generosity                        1860 non-null   float64\n",
      " 8   Perceptions of corruption         1839 non-null   float64\n",
      " 9   Positive affect                   1927 non-null   float64\n",
      " 10  Negative affect                   1933 non-null   float64\n",
      "dtypes: float64(9), int64(1), object(1)\n",
      "memory usage: 167.6+ KB\n"
     ]
    }
   ],
   "source": [
    "data.info()"
   ]
  },
  {
   "cell_type": "markdown",
   "id": "52feefec",
   "metadata": {},
   "source": [
    "### Cleaning Text and Removing Special Characters"
   ]
  },
  {
   "cell_type": "code",
   "execution_count": 90,
   "id": "80feb89d",
   "metadata": {},
   "outputs": [
    {
     "data": {
      "text/html": [
       "<div>\n",
       "<style scoped>\n",
       "    .dataframe tbody tr th:only-of-type {\n",
       "        vertical-align: middle;\n",
       "    }\n",
       "\n",
       "    .dataframe tbody tr th {\n",
       "        vertical-align: top;\n",
       "    }\n",
       "\n",
       "    .dataframe thead th {\n",
       "        text-align: right;\n",
       "    }\n",
       "</style>\n",
       "<table border=\"1\" class=\"dataframe\">\n",
       "  <thead>\n",
       "    <tr style=\"text-align: right;\">\n",
       "      <th></th>\n",
       "      <th>Country_name</th>\n",
       "      <th>year</th>\n",
       "      <th>Life_Ladder</th>\n",
       "      <th>Log_GDP_per_capita</th>\n",
       "      <th>Social_support</th>\n",
       "      <th>Healthy_life_expectancy_at_birth</th>\n",
       "      <th>Freedom_to_make_life_choices</th>\n",
       "      <th>Generosity</th>\n",
       "      <th>Perceptions_of_corruption</th>\n",
       "      <th>Positive_affect</th>\n",
       "      <th>Negative_affect</th>\n",
       "    </tr>\n",
       "  </thead>\n",
       "  <tbody>\n",
       "    <tr>\n",
       "      <th>0</th>\n",
       "      <td>Afghanistan</td>\n",
       "      <td>2008</td>\n",
       "      <td>3.724</td>\n",
       "      <td>7.370</td>\n",
       "      <td>0.451</td>\n",
       "      <td>50.80</td>\n",
       "      <td>0.718</td>\n",
       "      <td>0.168</td>\n",
       "      <td>0.882</td>\n",
       "      <td>0.518</td>\n",
       "      <td>0.258</td>\n",
       "    </tr>\n",
       "    <tr>\n",
       "      <th>1</th>\n",
       "      <td>Afghanistan</td>\n",
       "      <td>2009</td>\n",
       "      <td>4.402</td>\n",
       "      <td>7.540</td>\n",
       "      <td>0.552</td>\n",
       "      <td>51.20</td>\n",
       "      <td>0.679</td>\n",
       "      <td>0.190</td>\n",
       "      <td>0.850</td>\n",
       "      <td>0.584</td>\n",
       "      <td>0.237</td>\n",
       "    </tr>\n",
       "    <tr>\n",
       "      <th>2</th>\n",
       "      <td>Afghanistan</td>\n",
       "      <td>2010</td>\n",
       "      <td>4.758</td>\n",
       "      <td>7.647</td>\n",
       "      <td>0.539</td>\n",
       "      <td>51.60</td>\n",
       "      <td>0.600</td>\n",
       "      <td>0.121</td>\n",
       "      <td>0.707</td>\n",
       "      <td>0.618</td>\n",
       "      <td>0.275</td>\n",
       "    </tr>\n",
       "    <tr>\n",
       "      <th>3</th>\n",
       "      <td>Afghanistan</td>\n",
       "      <td>2011</td>\n",
       "      <td>3.832</td>\n",
       "      <td>7.620</td>\n",
       "      <td>0.521</td>\n",
       "      <td>51.92</td>\n",
       "      <td>0.496</td>\n",
       "      <td>0.162</td>\n",
       "      <td>0.731</td>\n",
       "      <td>0.611</td>\n",
       "      <td>0.267</td>\n",
       "    </tr>\n",
       "    <tr>\n",
       "      <th>4</th>\n",
       "      <td>Afghanistan</td>\n",
       "      <td>2012</td>\n",
       "      <td>3.783</td>\n",
       "      <td>7.705</td>\n",
       "      <td>0.521</td>\n",
       "      <td>52.24</td>\n",
       "      <td>0.531</td>\n",
       "      <td>0.236</td>\n",
       "      <td>0.776</td>\n",
       "      <td>0.710</td>\n",
       "      <td>0.268</td>\n",
       "    </tr>\n",
       "  </tbody>\n",
       "</table>\n",
       "</div>"
      ],
      "text/plain": [
       "  Country_name  year  Life_Ladder  Log_GDP_per_capita  Social_support  \\\n",
       "0  Afghanistan  2008        3.724               7.370           0.451   \n",
       "1  Afghanistan  2009        4.402               7.540           0.552   \n",
       "2  Afghanistan  2010        4.758               7.647           0.539   \n",
       "3  Afghanistan  2011        3.832               7.620           0.521   \n",
       "4  Afghanistan  2012        3.783               7.705           0.521   \n",
       "\n",
       "   Healthy_life_expectancy_at_birth  Freedom_to_make_life_choices  Generosity  \\\n",
       "0                             50.80                         0.718       0.168   \n",
       "1                             51.20                         0.679       0.190   \n",
       "2                             51.60                         0.600       0.121   \n",
       "3                             51.92                         0.496       0.162   \n",
       "4                             52.24                         0.531       0.236   \n",
       "\n",
       "   Perceptions_of_corruption  Positive_affect  Negative_affect  \n",
       "0                      0.882            0.518            0.258  \n",
       "1                      0.850            0.584            0.237  \n",
       "2                      0.707            0.618            0.275  \n",
       "3                      0.731            0.611            0.267  \n",
       "4                      0.776            0.710            0.268  "
      ]
     },
     "execution_count": 90,
     "metadata": {},
     "output_type": "execute_result"
    }
   ],
   "source": [
    "data.columns = data.columns.str.replace(' ', '_')\n",
    "data.head()"
   ]
  },
  {
   "cell_type": "markdown",
   "id": "e1f6d756",
   "metadata": {},
   "source": [
    "### Check out the duplicates in the ID column"
   ]
  },
  {
   "cell_type": "code",
   "execution_count": 91,
   "id": "dceb94d3",
   "metadata": {},
   "outputs": [
    {
     "name": "stdout",
     "output_type": "stream",
     "text": [
      "Number of duplicate records dropped:  0\n"
     ]
    }
   ],
   "source": [
    "before = len(data)\n",
    "data = data.drop_duplicates()\n",
    "after = len(data)\n",
    "print('Number of duplicate records dropped: ', str(before - after))"
   ]
  },
  {
   "cell_type": "markdown",
   "id": "c8c9b94a",
   "metadata": {},
   "source": [
    "### Check for missing values and fill them if needed"
   ]
  },
  {
   "cell_type": "code",
   "execution_count": 94,
   "id": "dea28757",
   "metadata": {},
   "outputs": [
    {
     "data": {
      "text/plain": [
       "Country_name                          0\n",
       "year                                  0\n",
       "Life_Ladder                           0\n",
       "Log_GDP_per_capita                   36\n",
       "Social_support                       13\n",
       "Healthy_life_expectancy_at_birth     55\n",
       "Freedom_to_make_life_choices         32\n",
       "Generosity                           89\n",
       "Perceptions_of_corruption           110\n",
       "Positive_affect                      22\n",
       "Negative_affect                      16\n",
       "dtype: int64"
      ]
     },
     "execution_count": 94,
     "metadata": {},
     "output_type": "execute_result"
    }
   ],
   "source": [
    "data.isnull().sum()"
   ]
  },
  {
   "cell_type": "markdown",
   "id": "16b69f19",
   "metadata": {},
   "source": [
    "##### For Perception_of_corruption"
   ]
  },
  {
   "cell_type": "code",
   "execution_count": 101,
   "id": "6eb6ac02",
   "metadata": {},
   "outputs": [],
   "source": [
    "# Group the DataFrame by country and calculate the mean of each group\n",
    "grouped = data.groupby(\"Country_name\")['Perceptions_of_corruption'].mean()\n",
    "\n",
    "# Replace null values with the mean of each country\n",
    "for country in data[\"Country_name\"].unique():\n",
    "    data.loc[data[\"Country_name\"] == country, 'Perceptions_of_corruption'] = data.loc[data[\"Country_name\"] == country, 'Perceptions_of_corruption'].fillna(grouped[country])\n",
    "\n",
    "# Concatenate the country groups back into a single DataFrame\n",
    "data = pd.concat([data[data[\"Country_name\"] == country] for country in data[\"Country_name\"].unique()])"
   ]
  },
  {
   "cell_type": "code",
   "execution_count": 102,
   "id": "13f116c9",
   "metadata": {},
   "outputs": [
    {
     "data": {
      "text/plain": [
       "Country_name                         0\n",
       "year                                 0\n",
       "Life_Ladder                          0\n",
       "Log_GDP_per_capita                  36\n",
       "Social_support                      13\n",
       "Healthy_life_expectancy_at_birth    55\n",
       "Freedom_to_make_life_choices        32\n",
       "Generosity                          89\n",
       "Perceptions_of_corruption           28\n",
       "Positive_affect                     22\n",
       "Negative_affect                     16\n",
       "dtype: int64"
      ]
     },
     "execution_count": 102,
     "metadata": {},
     "output_type": "execute_result"
    }
   ],
   "source": [
    "data = perception_corruption(data, country)\n",
    "data.isnull().sum()"
   ]
  },
  {
   "cell_type": "markdown",
   "id": "e39ac01b",
   "metadata": {},
   "source": [
    "##### For Log_GDP_per_capita"
   ]
  },
  {
   "cell_type": "code",
   "execution_count": 103,
   "id": "43b9b1a0",
   "metadata": {},
   "outputs": [],
   "source": [
    "grouped = data.groupby(\"Country_name\")['Log_GDP_per_capita'].mean()\n",
    "for country in data[\"Country_name\"].unique():\n",
    "    data.loc[data[\"Country_name\"] == country, 'Log_GDP_per_capita'] = data.loc[data[\"Country_name\"] == country, 'Log_GDP_per_capita'].fillna(grouped[country])\n",
    "data = pd.concat([data[data[\"Country_name\"] == country] for country in data[\"Country_name\"].unique()])"
   ]
  },
  {
   "cell_type": "code",
   "execution_count": 104,
   "id": "068f7d1c",
   "metadata": {},
   "outputs": [
    {
     "data": {
      "text/plain": [
       "Country_name                         0\n",
       "year                                 0\n",
       "Life_Ladder                          0\n",
       "Log_GDP_per_capita                  19\n",
       "Social_support                      13\n",
       "Healthy_life_expectancy_at_birth    55\n",
       "Freedom_to_make_life_choices        32\n",
       "Generosity                          89\n",
       "Perceptions_of_corruption           28\n",
       "Positive_affect                     22\n",
       "Negative_affect                     16\n",
       "dtype: int64"
      ]
     },
     "execution_count": 104,
     "metadata": {},
     "output_type": "execute_result"
    }
   ],
   "source": [
    "data.isnull().sum()"
   ]
  },
  {
   "cell_type": "markdown",
   "id": "e583b694",
   "metadata": {},
   "source": [
    "##### For Social_support "
   ]
  },
  {
   "cell_type": "code",
   "execution_count": 106,
   "id": "9b8f5f66",
   "metadata": {},
   "outputs": [],
   "source": [
    "grouped = data.groupby(\"Country_name\")['Social_support'].mean()\n",
    "for country in data[\"Country_name\"].unique():\n",
    "    data.loc[data[\"Country_name\"] == country, 'Social_support'] = data.loc[data[\"Country_name\"] == country, 'Social_support'].fillna(grouped[country])\n",
    "data = pd.concat([data[data[\"Country_name\"] == country] for country in data[\"Country_name\"].unique()])"
   ]
  },
  {
   "cell_type": "code",
   "execution_count": 107,
   "id": "7c0159f8",
   "metadata": {},
   "outputs": [
    {
     "data": {
      "text/plain": [
       "Country_name                         0\n",
       "year                                 0\n",
       "Life_Ladder                          0\n",
       "Log_GDP_per_capita                  19\n",
       "Social_support                       1\n",
       "Healthy_life_expectancy_at_birth    55\n",
       "Freedom_to_make_life_choices        32\n",
       "Generosity                          89\n",
       "Perceptions_of_corruption           28\n",
       "Positive_affect                     22\n",
       "Negative_affect                     16\n",
       "dtype: int64"
      ]
     },
     "execution_count": 107,
     "metadata": {},
     "output_type": "execute_result"
    }
   ],
   "source": [
    "data.isnull().sum()"
   ]
  },
  {
   "cell_type": "markdown",
   "id": "6cd78940",
   "metadata": {},
   "source": [
    "##### For Healthy_life_expectancy_at_birth"
   ]
  },
  {
   "cell_type": "code",
   "execution_count": 108,
   "id": "5f16c1ad",
   "metadata": {},
   "outputs": [],
   "source": [
    "grouped = data.groupby(\"Country_name\")['Healthy_life_expectancy_at_birth'].mean()\n",
    "for country in data[\"Country_name\"].unique():\n",
    "    data.loc[data[\"Country_name\"] == country, 'Healthy_life_expectancy_at_birth'] = data.loc[data[\"Country_name\"] == country, 'Healthy_life_expectancy_at_birth'].fillna(grouped[country])\n",
    "data = pd.concat([data[data[\"Country_name\"] == country] for country in data[\"Country_name\"].unique()])"
   ]
  },
  {
   "cell_type": "code",
   "execution_count": 109,
   "id": "4180a4f5",
   "metadata": {},
   "outputs": [
    {
     "data": {
      "text/plain": [
       "Country_name                         0\n",
       "year                                 0\n",
       "Life_Ladder                          0\n",
       "Log_GDP_per_capita                  19\n",
       "Social_support                       1\n",
       "Healthy_life_expectancy_at_birth    36\n",
       "Freedom_to_make_life_choices        32\n",
       "Generosity                          89\n",
       "Perceptions_of_corruption           28\n",
       "Positive_affect                     22\n",
       "Negative_affect                     16\n",
       "dtype: int64"
      ]
     },
     "execution_count": 109,
     "metadata": {},
     "output_type": "execute_result"
    }
   ],
   "source": [
    "data.isnull().sum()"
   ]
  },
  {
   "cell_type": "markdown",
   "id": "f5115878",
   "metadata": {},
   "source": [
    "##### For Freedom_to_make_life_choices"
   ]
  },
  {
   "cell_type": "code",
   "execution_count": 110,
   "id": "c198c453",
   "metadata": {},
   "outputs": [],
   "source": [
    "grouped = data.groupby(\"Country_name\")['Freedom_to_make_life_choices'].mean()\n",
    "for country in data[\"Country_name\"].unique():\n",
    "    data.loc[data[\"Country_name\"] == country, 'Freedom_to_make_life_choices'] = data.loc[data[\"Country_name\"] == country, 'Freedom_to_make_life_choices'].fillna(grouped[country])\n",
    "data = pd.concat([data[data[\"Country_name\"] == country] for country in data[\"Country_name\"].unique()])"
   ]
  },
  {
   "cell_type": "code",
   "execution_count": 112,
   "id": "a6379084",
   "metadata": {},
   "outputs": [
    {
     "data": {
      "text/plain": [
       "Country_name                         0\n",
       "year                                 0\n",
       "Life_Ladder                          0\n",
       "Log_GDP_per_capita                  19\n",
       "Social_support                       1\n",
       "Healthy_life_expectancy_at_birth    36\n",
       "Freedom_to_make_life_choices         0\n",
       "Generosity                          89\n",
       "Perceptions_of_corruption           28\n",
       "Positive_affect                     22\n",
       "Negative_affect                     16\n",
       "dtype: int64"
      ]
     },
     "execution_count": 112,
     "metadata": {},
     "output_type": "execute_result"
    }
   ],
   "source": [
    "data.isnull().sum()"
   ]
  },
  {
   "cell_type": "markdown",
   "id": "dcd91434",
   "metadata": {},
   "source": [
    "##### For Generosity"
   ]
  },
  {
   "cell_type": "code",
   "execution_count": 114,
   "id": "3907f1c2",
   "metadata": {},
   "outputs": [],
   "source": [
    "grouped = data.groupby(\"Country_name\")['Generosity'].mean()\n",
    "for country in data[\"Country_name\"].unique():\n",
    "    data.loc[data[\"Country_name\"] == country, 'Generosity'] = data.loc[data[\"Country_name\"] == country, 'Generosity'].fillna(grouped[country])\n",
    "data = pd.concat([data[data[\"Country_name\"] == country] for country in data[\"Country_name\"].unique()])"
   ]
  },
  {
   "cell_type": "code",
   "execution_count": 116,
   "id": "b1505f1d",
   "metadata": {},
   "outputs": [
    {
     "data": {
      "text/plain": [
       "Country_name                         0\n",
       "year                                 0\n",
       "Life_Ladder                          0\n",
       "Log_GDP_per_capita                  19\n",
       "Social_support                       1\n",
       "Healthy_life_expectancy_at_birth    36\n",
       "Freedom_to_make_life_choices         0\n",
       "Generosity                          19\n",
       "Perceptions_of_corruption           28\n",
       "Positive_affect                     22\n",
       "Negative_affect                     16\n",
       "dtype: int64"
      ]
     },
     "execution_count": 116,
     "metadata": {},
     "output_type": "execute_result"
    }
   ],
   "source": [
    "data.isnull().sum()"
   ]
  },
  {
   "cell_type": "markdown",
   "id": "927abd47",
   "metadata": {},
   "source": [
    "##### For Positive_affect "
   ]
  },
  {
   "cell_type": "code",
   "execution_count": 118,
   "id": "2279a437",
   "metadata": {},
   "outputs": [],
   "source": [
    "grouped = data.groupby(\"Country_name\")['Positive_affect'].mean()\n",
    "for country in data[\"Country_name\"].unique():\n",
    "    data.loc[data[\"Country_name\"] == country, 'Positive_affect'] = data.loc[data[\"Country_name\"] == country, 'Positive_affect'].fillna(grouped[country])\n",
    "data = pd.concat([data[data[\"Country_name\"] == country] for country in data[\"Country_name\"].unique()])"
   ]
  },
  {
   "cell_type": "code",
   "execution_count": 119,
   "id": "ba2ee368",
   "metadata": {},
   "outputs": [
    {
     "data": {
      "text/plain": [
       "Country_name                         0\n",
       "year                                 0\n",
       "Life_Ladder                          0\n",
       "Log_GDP_per_capita                  19\n",
       "Social_support                       1\n",
       "Healthy_life_expectancy_at_birth    36\n",
       "Freedom_to_make_life_choices         0\n",
       "Generosity                          19\n",
       "Perceptions_of_corruption           28\n",
       "Positive_affect                      2\n",
       "Negative_affect                     16\n",
       "dtype: int64"
      ]
     },
     "execution_count": 119,
     "metadata": {},
     "output_type": "execute_result"
    }
   ],
   "source": [
    "data.isnull().sum()"
   ]
  },
  {
   "cell_type": "markdown",
   "id": "35b66535",
   "metadata": {},
   "source": [
    "##### For Negative_affect "
   ]
  },
  {
   "cell_type": "code",
   "execution_count": 121,
   "id": "c37cdb2b",
   "metadata": {},
   "outputs": [],
   "source": [
    "grouped = data.groupby(\"Country_name\")['Negative_affect'].mean()\n",
    "for country in data[\"Country_name\"].unique():\n",
    "    data.loc[data[\"Country_name\"] == country, 'Negative_affect'] = data.loc[data[\"Country_name\"] == country, 'Negative_affect'].fillna(grouped[country])\n",
    "data = pd.concat([data[data[\"Country_name\"] == country] for country in data[\"Country_name\"].unique()])"
   ]
  },
  {
   "cell_type": "code",
   "execution_count": 122,
   "id": "cf26b15d",
   "metadata": {},
   "outputs": [
    {
     "data": {
      "text/plain": [
       "Country_name                         0\n",
       "year                                 0\n",
       "Life_Ladder                          0\n",
       "Log_GDP_per_capita                  19\n",
       "Social_support                       1\n",
       "Healthy_life_expectancy_at_birth    36\n",
       "Freedom_to_make_life_choices         0\n",
       "Generosity                          19\n",
       "Perceptions_of_corruption           28\n",
       "Positive_affect                      2\n",
       "Negative_affect                      1\n",
       "dtype: int64"
      ]
     },
     "execution_count": 122,
     "metadata": {},
     "output_type": "execute_result"
    }
   ],
   "source": [
    "data.isnull().sum()"
   ]
  },
  {
   "cell_type": "code",
   "execution_count": null,
   "id": "89a89c3e",
   "metadata": {},
   "outputs": [],
   "source": []
  },
  {
   "cell_type": "markdown",
   "id": "f66d9d88",
   "metadata": {},
   "source": [
    "##### We decided to drop the rows where the missing values remain showing the data of an entire country is missing for the columns in question"
   ]
  },
  {
   "cell_type": "code",
   "execution_count": 132,
   "id": "5315605a",
   "metadata": {},
   "outputs": [
    {
     "name": "stdout",
     "output_type": "stream",
     "text": [
      "<class 'pandas.core.frame.DataFrame'>\n",
      "Int64Index: 1878 entries, 0 to 1948\n",
      "Data columns (total 11 columns):\n",
      " #   Column                            Non-Null Count  Dtype  \n",
      "---  ------                            --------------  -----  \n",
      " 0   Country_name                      1878 non-null   object \n",
      " 1   year                              1878 non-null   int64  \n",
      " 2   Life_Ladder                       1878 non-null   float64\n",
      " 3   Log_GDP_per_capita                1878 non-null   float64\n",
      " 4   Social_support                    1878 non-null   float64\n",
      " 5   Healthy_life_expectancy_at_birth  1878 non-null   float64\n",
      " 6   Freedom_to_make_life_choices      1878 non-null   float64\n",
      " 7   Generosity                        1878 non-null   float64\n",
      " 8   Perceptions_of_corruption         1878 non-null   float64\n",
      " 9   Positive_affect                   1878 non-null   float64\n",
      " 10  Negative_affect                   1878 non-null   float64\n",
      "dtypes: float64(9), int64(1), object(1)\n",
      "memory usage: 176.1+ KB\n"
     ]
    }
   ],
   "source": [
    "data = data.dropna()\n",
    "data.info()"
   ]
  },
  {
   "cell_type": "markdown",
   "id": "1c2598f3",
   "metadata": {},
   "source": [
    "We end up with 1878 rows instead of 1949 rows"
   ]
  },
  {
   "cell_type": "code",
   "execution_count": 133,
   "id": "00ce9020",
   "metadata": {},
   "outputs": [
    {
     "data": {
      "text/html": [
       "<div>\n",
       "<style scoped>\n",
       "    .dataframe tbody tr th:only-of-type {\n",
       "        vertical-align: middle;\n",
       "    }\n",
       "\n",
       "    .dataframe tbody tr th {\n",
       "        vertical-align: top;\n",
       "    }\n",
       "\n",
       "    .dataframe thead th {\n",
       "        text-align: right;\n",
       "    }\n",
       "</style>\n",
       "<table border=\"1\" class=\"dataframe\">\n",
       "  <thead>\n",
       "    <tr style=\"text-align: right;\">\n",
       "      <th></th>\n",
       "      <th>Country_name</th>\n",
       "      <th>year</th>\n",
       "      <th>Life_Ladder</th>\n",
       "      <th>Log_GDP_per_capita</th>\n",
       "      <th>Social_support</th>\n",
       "      <th>Healthy_life_expectancy_at_birth</th>\n",
       "      <th>Freedom_to_make_life_choices</th>\n",
       "      <th>Generosity</th>\n",
       "      <th>Perceptions_of_corruption</th>\n",
       "      <th>Positive_affect</th>\n",
       "      <th>Negative_affect</th>\n",
       "    </tr>\n",
       "  </thead>\n",
       "  <tbody>\n",
       "    <tr>\n",
       "      <th>0</th>\n",
       "      <td>Afghanistan</td>\n",
       "      <td>2008</td>\n",
       "      <td>3.724</td>\n",
       "      <td>7.370</td>\n",
       "      <td>0.451</td>\n",
       "      <td>50.80</td>\n",
       "      <td>0.718</td>\n",
       "      <td>0.168</td>\n",
       "      <td>0.882</td>\n",
       "      <td>0.518</td>\n",
       "      <td>0.258</td>\n",
       "    </tr>\n",
       "    <tr>\n",
       "      <th>1</th>\n",
       "      <td>Afghanistan</td>\n",
       "      <td>2009</td>\n",
       "      <td>4.402</td>\n",
       "      <td>7.540</td>\n",
       "      <td>0.552</td>\n",
       "      <td>51.20</td>\n",
       "      <td>0.679</td>\n",
       "      <td>0.190</td>\n",
       "      <td>0.850</td>\n",
       "      <td>0.584</td>\n",
       "      <td>0.237</td>\n",
       "    </tr>\n",
       "    <tr>\n",
       "      <th>2</th>\n",
       "      <td>Afghanistan</td>\n",
       "      <td>2010</td>\n",
       "      <td>4.758</td>\n",
       "      <td>7.647</td>\n",
       "      <td>0.539</td>\n",
       "      <td>51.60</td>\n",
       "      <td>0.600</td>\n",
       "      <td>0.121</td>\n",
       "      <td>0.707</td>\n",
       "      <td>0.618</td>\n",
       "      <td>0.275</td>\n",
       "    </tr>\n",
       "    <tr>\n",
       "      <th>3</th>\n",
       "      <td>Afghanistan</td>\n",
       "      <td>2011</td>\n",
       "      <td>3.832</td>\n",
       "      <td>7.620</td>\n",
       "      <td>0.521</td>\n",
       "      <td>51.92</td>\n",
       "      <td>0.496</td>\n",
       "      <td>0.162</td>\n",
       "      <td>0.731</td>\n",
       "      <td>0.611</td>\n",
       "      <td>0.267</td>\n",
       "    </tr>\n",
       "    <tr>\n",
       "      <th>4</th>\n",
       "      <td>Afghanistan</td>\n",
       "      <td>2012</td>\n",
       "      <td>3.783</td>\n",
       "      <td>7.705</td>\n",
       "      <td>0.521</td>\n",
       "      <td>52.24</td>\n",
       "      <td>0.531</td>\n",
       "      <td>0.236</td>\n",
       "      <td>0.776</td>\n",
       "      <td>0.710</td>\n",
       "      <td>0.268</td>\n",
       "    </tr>\n",
       "    <tr>\n",
       "      <th>...</th>\n",
       "      <td>...</td>\n",
       "      <td>...</td>\n",
       "      <td>...</td>\n",
       "      <td>...</td>\n",
       "      <td>...</td>\n",
       "      <td>...</td>\n",
       "      <td>...</td>\n",
       "      <td>...</td>\n",
       "      <td>...</td>\n",
       "      <td>...</td>\n",
       "      <td>...</td>\n",
       "    </tr>\n",
       "    <tr>\n",
       "      <th>1944</th>\n",
       "      <td>Zimbabwe</td>\n",
       "      <td>2016</td>\n",
       "      <td>3.735</td>\n",
       "      <td>7.984</td>\n",
       "      <td>0.768</td>\n",
       "      <td>54.40</td>\n",
       "      <td>0.733</td>\n",
       "      <td>-0.095</td>\n",
       "      <td>0.724</td>\n",
       "      <td>0.738</td>\n",
       "      <td>0.209</td>\n",
       "    </tr>\n",
       "    <tr>\n",
       "      <th>1945</th>\n",
       "      <td>Zimbabwe</td>\n",
       "      <td>2017</td>\n",
       "      <td>3.638</td>\n",
       "      <td>8.016</td>\n",
       "      <td>0.754</td>\n",
       "      <td>55.00</td>\n",
       "      <td>0.753</td>\n",
       "      <td>-0.098</td>\n",
       "      <td>0.751</td>\n",
       "      <td>0.806</td>\n",
       "      <td>0.224</td>\n",
       "    </tr>\n",
       "    <tr>\n",
       "      <th>1946</th>\n",
       "      <td>Zimbabwe</td>\n",
       "      <td>2018</td>\n",
       "      <td>3.616</td>\n",
       "      <td>8.049</td>\n",
       "      <td>0.775</td>\n",
       "      <td>55.60</td>\n",
       "      <td>0.763</td>\n",
       "      <td>-0.068</td>\n",
       "      <td>0.844</td>\n",
       "      <td>0.710</td>\n",
       "      <td>0.212</td>\n",
       "    </tr>\n",
       "    <tr>\n",
       "      <th>1947</th>\n",
       "      <td>Zimbabwe</td>\n",
       "      <td>2019</td>\n",
       "      <td>2.694</td>\n",
       "      <td>7.950</td>\n",
       "      <td>0.759</td>\n",
       "      <td>56.20</td>\n",
       "      <td>0.632</td>\n",
       "      <td>-0.064</td>\n",
       "      <td>0.831</td>\n",
       "      <td>0.716</td>\n",
       "      <td>0.235</td>\n",
       "    </tr>\n",
       "    <tr>\n",
       "      <th>1948</th>\n",
       "      <td>Zimbabwe</td>\n",
       "      <td>2020</td>\n",
       "      <td>3.160</td>\n",
       "      <td>7.829</td>\n",
       "      <td>0.717</td>\n",
       "      <td>56.80</td>\n",
       "      <td>0.643</td>\n",
       "      <td>-0.009</td>\n",
       "      <td>0.789</td>\n",
       "      <td>0.703</td>\n",
       "      <td>0.346</td>\n",
       "    </tr>\n",
       "  </tbody>\n",
       "</table>\n",
       "<p>1878 rows × 11 columns</p>\n",
       "</div>"
      ],
      "text/plain": [
       "     Country_name  year  Life_Ladder  Log_GDP_per_capita  Social_support  \\\n",
       "0     Afghanistan  2008        3.724               7.370           0.451   \n",
       "1     Afghanistan  2009        4.402               7.540           0.552   \n",
       "2     Afghanistan  2010        4.758               7.647           0.539   \n",
       "3     Afghanistan  2011        3.832               7.620           0.521   \n",
       "4     Afghanistan  2012        3.783               7.705           0.521   \n",
       "...           ...   ...          ...                 ...             ...   \n",
       "1944     Zimbabwe  2016        3.735               7.984           0.768   \n",
       "1945     Zimbabwe  2017        3.638               8.016           0.754   \n",
       "1946     Zimbabwe  2018        3.616               8.049           0.775   \n",
       "1947     Zimbabwe  2019        2.694               7.950           0.759   \n",
       "1948     Zimbabwe  2020        3.160               7.829           0.717   \n",
       "\n",
       "      Healthy_life_expectancy_at_birth  Freedom_to_make_life_choices  \\\n",
       "0                                50.80                         0.718   \n",
       "1                                51.20                         0.679   \n",
       "2                                51.60                         0.600   \n",
       "3                                51.92                         0.496   \n",
       "4                                52.24                         0.531   \n",
       "...                                ...                           ...   \n",
       "1944                             54.40                         0.733   \n",
       "1945                             55.00                         0.753   \n",
       "1946                             55.60                         0.763   \n",
       "1947                             56.20                         0.632   \n",
       "1948                             56.80                         0.643   \n",
       "\n",
       "      Generosity  Perceptions_of_corruption  Positive_affect  Negative_affect  \n",
       "0          0.168                      0.882            0.518            0.258  \n",
       "1          0.190                      0.850            0.584            0.237  \n",
       "2          0.121                      0.707            0.618            0.275  \n",
       "3          0.162                      0.731            0.611            0.267  \n",
       "4          0.236                      0.776            0.710            0.268  \n",
       "...          ...                        ...              ...              ...  \n",
       "1944      -0.095                      0.724            0.738            0.209  \n",
       "1945      -0.098                      0.751            0.806            0.224  \n",
       "1946      -0.068                      0.844            0.710            0.212  \n",
       "1947      -0.064                      0.831            0.716            0.235  \n",
       "1948      -0.009                      0.789            0.703            0.346  \n",
       "\n",
       "[1878 rows x 11 columns]"
      ]
     },
     "execution_count": 133,
     "metadata": {},
     "output_type": "execute_result"
    }
   ],
   "source": [
    "data"
   ]
  },
  {
   "cell_type": "code",
   "execution_count": 125,
   "id": "75952703",
   "metadata": {},
   "outputs": [],
   "source": [
    "#country = list(null_Perceptions_of_corruption[\"Country_name\"].unique())\n",
    "#def perception_corruption(data, country):\n",
    " #   for i in country: \n",
    " #       mean_perception_corruption=data.loc[data[\"Country_name\"] == i, 'Perceptions_of_corruption'].mean()\n",
    "  #      data.loc[(data['Perceptions_of_corruption'].isnull()==True)&(data[\"Country_name\"]==i),'Perceptions_of_corruption']= mean_perception_corruption\n",
    "   #     return data"
   ]
  },
  {
   "cell_type": "markdown",
   "id": "2373571e",
   "metadata": {},
   "source": [
    "### Check for low variance columns and possible outliers (check ou the 0)"
   ]
  },
  {
   "cell_type": "markdown",
   "id": "b022ca9f",
   "metadata": {},
   "source": [
    "__check for low variance columns:__"
   ]
  },
  {
   "cell_type": "code",
   "execution_count": 134,
   "id": "0e879f15",
   "metadata": {},
   "outputs": [
    {
     "name": "stdout",
     "output_type": "stream",
     "text": [
      "[]\n"
     ]
    }
   ],
   "source": [
    "low_variance = []\n",
    "for col in data._get_numeric_data():\n",
    "    minimum = min(data[col])\n",
    "    ninety_perc = np.percentile(data[col], 90)\n",
    "    if ninety_perc == minimum:\n",
    "        low_variance.append(col)\n",
    "print(low_variance)"
   ]
  },
  {
   "cell_type": "markdown",
   "id": "75f0bd31",
   "metadata": {},
   "source": [
    "__check for outliers:__"
   ]
  },
  {
   "cell_type": "code",
   "execution_count": 135,
   "id": "f13f3f12",
   "metadata": {},
   "outputs": [
    {
     "name": "stderr",
     "output_type": "stream",
     "text": [
      "C:\\Users\\Rachad\\AppData\\Local\\Temp\\ipykernel_18352\\1851116529.py:12: FutureWarning: The frame.append method is deprecated and will be removed from pandas in a future version. Use pandas.concat instead.\n",
      "  outliers = outliers.append(results)\n",
      "C:\\Users\\Rachad\\AppData\\Local\\Temp\\ipykernel_18352\\1851116529.py:12: FutureWarning: The frame.append method is deprecated and will be removed from pandas in a future version. Use pandas.concat instead.\n",
      "  outliers = outliers.append(results)\n",
      "C:\\Users\\Rachad\\AppData\\Local\\Temp\\ipykernel_18352\\1851116529.py:12: FutureWarning: The frame.append method is deprecated and will be removed from pandas in a future version. Use pandas.concat instead.\n",
      "  outliers = outliers.append(results)\n",
      "C:\\Users\\Rachad\\AppData\\Local\\Temp\\ipykernel_18352\\1851116529.py:12: FutureWarning: The frame.append method is deprecated and will be removed from pandas in a future version. Use pandas.concat instead.\n",
      "  outliers = outliers.append(results)\n",
      "C:\\Users\\Rachad\\AppData\\Local\\Temp\\ipykernel_18352\\1851116529.py:12: FutureWarning: The frame.append method is deprecated and will be removed from pandas in a future version. Use pandas.concat instead.\n",
      "  outliers = outliers.append(results)\n",
      "C:\\Users\\Rachad\\AppData\\Local\\Temp\\ipykernel_18352\\1851116529.py:12: FutureWarning: The frame.append method is deprecated and will be removed from pandas in a future version. Use pandas.concat instead.\n",
      "  outliers = outliers.append(results)\n",
      "C:\\Users\\Rachad\\AppData\\Local\\Temp\\ipykernel_18352\\1851116529.py:12: FutureWarning: The frame.append method is deprecated and will be removed from pandas in a future version. Use pandas.concat instead.\n",
      "  outliers = outliers.append(results)\n",
      "C:\\Users\\Rachad\\AppData\\Local\\Temp\\ipykernel_18352\\1851116529.py:12: FutureWarning: The frame.append method is deprecated and will be removed from pandas in a future version. Use pandas.concat instead.\n",
      "  outliers = outliers.append(results)\n",
      "C:\\Users\\Rachad\\AppData\\Local\\Temp\\ipykernel_18352\\1851116529.py:12: FutureWarning: The frame.append method is deprecated and will be removed from pandas in a future version. Use pandas.concat instead.\n",
      "  outliers = outliers.append(results)\n",
      "C:\\Users\\Rachad\\AppData\\Local\\Temp\\ipykernel_18352\\1851116529.py:12: FutureWarning: The frame.append method is deprecated and will be removed from pandas in a future version. Use pandas.concat instead.\n",
      "  outliers = outliers.append(results)\n"
     ]
    },
    {
     "data": {
      "text/plain": [
       "Outlier\n",
       "Perceptions_of_corruption           157\n",
       "Social_support                       40\n",
       "Generosity                           36\n",
       "Negative_affect                      27\n",
       "Healthy_life_expectancy_at_birth     15\n",
       "Freedom_to_make_life_choices          7\n",
       "Positive_affect                       3\n",
       "dtype: int64"
      ]
     },
     "execution_count": 135,
     "metadata": {},
     "output_type": "execute_result"
    }
   ],
   "source": [
    "outliers = pd.DataFrame(columns=data.columns)\n",
    "stats = data.describe().transpose()\n",
    "stats['IQR'] = stats['75%'] - stats['25%']\n",
    "for col in stats.index:\n",
    "    iqr = stats.at[col,'IQR']\n",
    "    cutoff = iqr * 1.5\n",
    "    lower = stats.at[col,'25%'] - cutoff\n",
    "    upper = stats.at[col,'75%'] + cutoff\n",
    "    results = data[(data[col] < lower) |\n",
    "                   (data[col] > upper)].copy()\n",
    "    results['Outlier'] = col\n",
    "    outliers = outliers.append(results)\n",
    "outliers.value_counts('Outlier')"
   ]
  },
  {
   "cell_type": "code",
   "execution_count": 140,
   "id": "da14bac0",
   "metadata": {},
   "outputs": [
    {
     "data": {
      "text/plain": [
       "array(['Australia', 'Canada', 'Denmark', 'Estonia', 'Finland', 'Georgia',\n",
       "       'Ireland', 'Kuwait', 'Luxembourg', 'Netherlands', 'New Zealand',\n",
       "       'Norway', 'Qatar', 'Rwanda', 'Singapore', 'Sweden', 'Switzerland',\n",
       "       'United Arab Emirates', 'United Kingdom'], dtype=object)"
      ]
     },
     "execution_count": 140,
     "metadata": {},
     "output_type": "execute_result"
    }
   ],
   "source": [
    "test = outliers.loc[outliers['Outlier'] == \"Perceptions_of_corruption\"]\n",
    "test[\"Country_name\"].unique()"
   ]
  },
  {
   "cell_type": "markdown",
   "id": "17deec69",
   "metadata": {},
   "source": [
    "##### We decided to keep the outliers that could be important factors for the anlysis "
   ]
  },
  {
   "cell_type": "markdown",
   "id": "7b92cb57",
   "metadata": {},
   "source": [
    "## Export the cleaned dataset as .csv"
   ]
  },
  {
   "cell_type": "code",
   "execution_count": 136,
   "id": "44f84275",
   "metadata": {},
   "outputs": [],
   "source": [
    "data.to_csv(\"World_Happiness_Report_Cleaned.csv\", sep = ';')"
   ]
  },
  {
   "cell_type": "code",
   "execution_count": 137,
   "id": "9a29d681",
   "metadata": {},
   "outputs": [
    {
     "data": {
      "text/html": [
       "<div>\n",
       "<style scoped>\n",
       "    .dataframe tbody tr th:only-of-type {\n",
       "        vertical-align: middle;\n",
       "    }\n",
       "\n",
       "    .dataframe tbody tr th {\n",
       "        vertical-align: top;\n",
       "    }\n",
       "\n",
       "    .dataframe thead th {\n",
       "        text-align: right;\n",
       "    }\n",
       "</style>\n",
       "<table border=\"1\" class=\"dataframe\">\n",
       "  <thead>\n",
       "    <tr style=\"text-align: right;\">\n",
       "      <th></th>\n",
       "      <th>Unnamed: 0</th>\n",
       "      <th>Country_name</th>\n",
       "      <th>year</th>\n",
       "      <th>Life_Ladder</th>\n",
       "      <th>Log_GDP_per_capita</th>\n",
       "      <th>Social_support</th>\n",
       "      <th>Healthy_life_expectancy_at_birth</th>\n",
       "      <th>Freedom_to_make_life_choices</th>\n",
       "      <th>Generosity</th>\n",
       "      <th>Perceptions_of_corruption</th>\n",
       "      <th>Positive_affect</th>\n",
       "      <th>Negative_affect</th>\n",
       "    </tr>\n",
       "  </thead>\n",
       "  <tbody>\n",
       "    <tr>\n",
       "      <th>0</th>\n",
       "      <td>0</td>\n",
       "      <td>Afghanistan</td>\n",
       "      <td>2008</td>\n",
       "      <td>3.724</td>\n",
       "      <td>7.370</td>\n",
       "      <td>0.451</td>\n",
       "      <td>50.80</td>\n",
       "      <td>0.718</td>\n",
       "      <td>0.168</td>\n",
       "      <td>0.882</td>\n",
       "      <td>0.518</td>\n",
       "      <td>0.258</td>\n",
       "    </tr>\n",
       "    <tr>\n",
       "      <th>1</th>\n",
       "      <td>1</td>\n",
       "      <td>Afghanistan</td>\n",
       "      <td>2009</td>\n",
       "      <td>4.402</td>\n",
       "      <td>7.540</td>\n",
       "      <td>0.552</td>\n",
       "      <td>51.20</td>\n",
       "      <td>0.679</td>\n",
       "      <td>0.190</td>\n",
       "      <td>0.850</td>\n",
       "      <td>0.584</td>\n",
       "      <td>0.237</td>\n",
       "    </tr>\n",
       "    <tr>\n",
       "      <th>2</th>\n",
       "      <td>2</td>\n",
       "      <td>Afghanistan</td>\n",
       "      <td>2010</td>\n",
       "      <td>4.758</td>\n",
       "      <td>7.647</td>\n",
       "      <td>0.539</td>\n",
       "      <td>51.60</td>\n",
       "      <td>0.600</td>\n",
       "      <td>0.121</td>\n",
       "      <td>0.707</td>\n",
       "      <td>0.618</td>\n",
       "      <td>0.275</td>\n",
       "    </tr>\n",
       "    <tr>\n",
       "      <th>3</th>\n",
       "      <td>3</td>\n",
       "      <td>Afghanistan</td>\n",
       "      <td>2011</td>\n",
       "      <td>3.832</td>\n",
       "      <td>7.620</td>\n",
       "      <td>0.521</td>\n",
       "      <td>51.92</td>\n",
       "      <td>0.496</td>\n",
       "      <td>0.162</td>\n",
       "      <td>0.731</td>\n",
       "      <td>0.611</td>\n",
       "      <td>0.267</td>\n",
       "    </tr>\n",
       "    <tr>\n",
       "      <th>4</th>\n",
       "      <td>4</td>\n",
       "      <td>Afghanistan</td>\n",
       "      <td>2012</td>\n",
       "      <td>3.783</td>\n",
       "      <td>7.705</td>\n",
       "      <td>0.521</td>\n",
       "      <td>52.24</td>\n",
       "      <td>0.531</td>\n",
       "      <td>0.236</td>\n",
       "      <td>0.776</td>\n",
       "      <td>0.710</td>\n",
       "      <td>0.268</td>\n",
       "    </tr>\n",
       "    <tr>\n",
       "      <th>...</th>\n",
       "      <td>...</td>\n",
       "      <td>...</td>\n",
       "      <td>...</td>\n",
       "      <td>...</td>\n",
       "      <td>...</td>\n",
       "      <td>...</td>\n",
       "      <td>...</td>\n",
       "      <td>...</td>\n",
       "      <td>...</td>\n",
       "      <td>...</td>\n",
       "      <td>...</td>\n",
       "      <td>...</td>\n",
       "    </tr>\n",
       "    <tr>\n",
       "      <th>1873</th>\n",
       "      <td>1944</td>\n",
       "      <td>Zimbabwe</td>\n",
       "      <td>2016</td>\n",
       "      <td>3.735</td>\n",
       "      <td>7.984</td>\n",
       "      <td>0.768</td>\n",
       "      <td>54.40</td>\n",
       "      <td>0.733</td>\n",
       "      <td>-0.095</td>\n",
       "      <td>0.724</td>\n",
       "      <td>0.738</td>\n",
       "      <td>0.209</td>\n",
       "    </tr>\n",
       "    <tr>\n",
       "      <th>1874</th>\n",
       "      <td>1945</td>\n",
       "      <td>Zimbabwe</td>\n",
       "      <td>2017</td>\n",
       "      <td>3.638</td>\n",
       "      <td>8.016</td>\n",
       "      <td>0.754</td>\n",
       "      <td>55.00</td>\n",
       "      <td>0.753</td>\n",
       "      <td>-0.098</td>\n",
       "      <td>0.751</td>\n",
       "      <td>0.806</td>\n",
       "      <td>0.224</td>\n",
       "    </tr>\n",
       "    <tr>\n",
       "      <th>1875</th>\n",
       "      <td>1946</td>\n",
       "      <td>Zimbabwe</td>\n",
       "      <td>2018</td>\n",
       "      <td>3.616</td>\n",
       "      <td>8.049</td>\n",
       "      <td>0.775</td>\n",
       "      <td>55.60</td>\n",
       "      <td>0.763</td>\n",
       "      <td>-0.068</td>\n",
       "      <td>0.844</td>\n",
       "      <td>0.710</td>\n",
       "      <td>0.212</td>\n",
       "    </tr>\n",
       "    <tr>\n",
       "      <th>1876</th>\n",
       "      <td>1947</td>\n",
       "      <td>Zimbabwe</td>\n",
       "      <td>2019</td>\n",
       "      <td>2.694</td>\n",
       "      <td>7.950</td>\n",
       "      <td>0.759</td>\n",
       "      <td>56.20</td>\n",
       "      <td>0.632</td>\n",
       "      <td>-0.064</td>\n",
       "      <td>0.831</td>\n",
       "      <td>0.716</td>\n",
       "      <td>0.235</td>\n",
       "    </tr>\n",
       "    <tr>\n",
       "      <th>1877</th>\n",
       "      <td>1948</td>\n",
       "      <td>Zimbabwe</td>\n",
       "      <td>2020</td>\n",
       "      <td>3.160</td>\n",
       "      <td>7.829</td>\n",
       "      <td>0.717</td>\n",
       "      <td>56.80</td>\n",
       "      <td>0.643</td>\n",
       "      <td>-0.009</td>\n",
       "      <td>0.789</td>\n",
       "      <td>0.703</td>\n",
       "      <td>0.346</td>\n",
       "    </tr>\n",
       "  </tbody>\n",
       "</table>\n",
       "<p>1878 rows × 12 columns</p>\n",
       "</div>"
      ],
      "text/plain": [
       "      Unnamed: 0 Country_name  year  Life_Ladder  Log_GDP_per_capita  \\\n",
       "0              0  Afghanistan  2008        3.724               7.370   \n",
       "1              1  Afghanistan  2009        4.402               7.540   \n",
       "2              2  Afghanistan  2010        4.758               7.647   \n",
       "3              3  Afghanistan  2011        3.832               7.620   \n",
       "4              4  Afghanistan  2012        3.783               7.705   \n",
       "...          ...          ...   ...          ...                 ...   \n",
       "1873        1944     Zimbabwe  2016        3.735               7.984   \n",
       "1874        1945     Zimbabwe  2017        3.638               8.016   \n",
       "1875        1946     Zimbabwe  2018        3.616               8.049   \n",
       "1876        1947     Zimbabwe  2019        2.694               7.950   \n",
       "1877        1948     Zimbabwe  2020        3.160               7.829   \n",
       "\n",
       "      Social_support  Healthy_life_expectancy_at_birth  \\\n",
       "0              0.451                             50.80   \n",
       "1              0.552                             51.20   \n",
       "2              0.539                             51.60   \n",
       "3              0.521                             51.92   \n",
       "4              0.521                             52.24   \n",
       "...              ...                               ...   \n",
       "1873           0.768                             54.40   \n",
       "1874           0.754                             55.00   \n",
       "1875           0.775                             55.60   \n",
       "1876           0.759                             56.20   \n",
       "1877           0.717                             56.80   \n",
       "\n",
       "      Freedom_to_make_life_choices  Generosity  Perceptions_of_corruption  \\\n",
       "0                            0.718       0.168                      0.882   \n",
       "1                            0.679       0.190                      0.850   \n",
       "2                            0.600       0.121                      0.707   \n",
       "3                            0.496       0.162                      0.731   \n",
       "4                            0.531       0.236                      0.776   \n",
       "...                            ...         ...                        ...   \n",
       "1873                         0.733      -0.095                      0.724   \n",
       "1874                         0.753      -0.098                      0.751   \n",
       "1875                         0.763      -0.068                      0.844   \n",
       "1876                         0.632      -0.064                      0.831   \n",
       "1877                         0.643      -0.009                      0.789   \n",
       "\n",
       "      Positive_affect  Negative_affect  \n",
       "0               0.518            0.258  \n",
       "1               0.584            0.237  \n",
       "2               0.618            0.275  \n",
       "3               0.611            0.267  \n",
       "4               0.710            0.268  \n",
       "...               ...              ...  \n",
       "1873            0.738            0.209  \n",
       "1874            0.806            0.224  \n",
       "1875            0.710            0.212  \n",
       "1876            0.716            0.235  \n",
       "1877            0.703            0.346  \n",
       "\n",
       "[1878 rows x 12 columns]"
      ]
     },
     "execution_count": 137,
     "metadata": {},
     "output_type": "execute_result"
    }
   ],
   "source": [
    "pd.read_csv(\"World_Happiness_Report_Cleaned.csv\", sep = \";\")"
   ]
  }
 ],
 "metadata": {
  "kernelspec": {
   "display_name": "Python 3 (ipykernel)",
   "language": "python",
   "name": "python3"
  },
  "language_info": {
   "codemirror_mode": {
    "name": "ipython",
    "version": 3
   },
   "file_extension": ".py",
   "mimetype": "text/x-python",
   "name": "python",
   "nbconvert_exporter": "python",
   "pygments_lexer": "ipython3",
   "version": "3.9.13"
  }
 },
 "nbformat": 4,
 "nbformat_minor": 5
}
